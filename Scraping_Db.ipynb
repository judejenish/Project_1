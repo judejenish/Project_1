{
 "cells": [
  {
   "cell_type": "code",
   "execution_count": 1,
   "id": "7b4643c4",
   "metadata": {},
   "outputs": [
    {
     "name": "stdout",
     "output_type": "stream",
     "text": [
      "Requirement already satisfied: selenium in c:\\users\\judej\\anaconda3\\lib\\site-packages (4.32.0)\n",
      "Requirement already satisfied: urllib3<3,>=1.26 in c:\\users\\judej\\anaconda3\\lib\\site-packages (from urllib3[socks]<3,>=1.26->selenium) (2.2.3)\n",
      "Requirement already satisfied: trio~=0.17 in c:\\users\\judej\\anaconda3\\lib\\site-packages (from selenium) (0.30.0)\n",
      "Requirement already satisfied: trio-websocket~=0.9 in c:\\users\\judej\\anaconda3\\lib\\site-packages (from selenium) (0.12.2)\n",
      "Requirement already satisfied: certifi>=2021.10.8 in c:\\users\\judej\\anaconda3\\lib\\site-packages (from selenium) (2025.1.31)\n",
      "Requirement already satisfied: typing_extensions~=4.9 in c:\\users\\judej\\anaconda3\\lib\\site-packages (from selenium) (4.11.0)\n",
      "Requirement already satisfied: websocket-client~=1.8 in c:\\users\\judej\\anaconda3\\lib\\site-packages (from selenium) (1.8.0)\n",
      "Requirement already satisfied: attrs>=23.2.0 in c:\\users\\judej\\anaconda3\\lib\\site-packages (from trio~=0.17->selenium) (25.3.0)\n",
      "Requirement already satisfied: sortedcontainers in c:\\users\\judej\\anaconda3\\lib\\site-packages (from trio~=0.17->selenium) (2.4.0)\n",
      "Requirement already satisfied: idna in c:\\users\\judej\\anaconda3\\lib\\site-packages (from trio~=0.17->selenium) (3.7)\n",
      "Requirement already satisfied: outcome in c:\\users\\judej\\anaconda3\\lib\\site-packages (from trio~=0.17->selenium) (1.3.0.post0)\n",
      "Requirement already satisfied: sniffio>=1.3.0 in c:\\users\\judej\\anaconda3\\lib\\site-packages (from trio~=0.17->selenium) (1.3.0)\n",
      "Requirement already satisfied: cffi>=1.14 in c:\\users\\judej\\anaconda3\\lib\\site-packages (from trio~=0.17->selenium) (1.17.1)\n",
      "Requirement already satisfied: wsproto>=0.14 in c:\\users\\judej\\anaconda3\\lib\\site-packages (from trio-websocket~=0.9->selenium) (1.2.0)\n",
      "Requirement already satisfied: pysocks!=1.5.7,<2.0,>=1.5.6 in c:\\users\\judej\\anaconda3\\lib\\site-packages (from urllib3[socks]<3,>=1.26->selenium) (1.7.1)\n",
      "Requirement already satisfied: pycparser in c:\\users\\judej\\anaconda3\\lib\\site-packages (from cffi>=1.14->trio~=0.17->selenium) (2.21)\n",
      "Requirement already satisfied: h11<1,>=0.9.0 in c:\\users\\judej\\anaconda3\\lib\\site-packages (from wsproto>=0.14->trio-websocket~=0.9->selenium) (0.14.0)\n"
     ]
    }
   ],
   "source": [
    "!pip install selenium\n"
   ]
  },
  {
   "cell_type": "code",
   "execution_count": 12,
   "id": "d0802422",
   "metadata": {},
   "outputs": [
    {
     "name": "stdout",
     "output_type": "stream",
     "text": [
      "Collecting pymysql\n",
      "  Downloading PyMySQL-1.1.1-py3-none-any.whl.metadata (4.4 kB)\n",
      "Downloading PyMySQL-1.1.1-py3-none-any.whl (44 kB)\n",
      "Installing collected packages: pymysql\n",
      "Successfully installed pymysql-1.1.1\n"
     ]
    }
   ],
   "source": [
    "!pip install pymysql\n"
   ]
  },
  {
   "cell_type": "markdown",
   "id": "8eadc444",
   "metadata": {},
   "source": [
    "Data Scarping Code\n"
   ]
  },
  {
   "cell_type": "code",
   "execution_count": null,
   "id": "c5698c60",
   "metadata": {},
   "outputs": [
    {
     "name": "stdout",
     "output_type": "stream",
     "text": [
      "Processing genre: horror\n",
      "Saved 1743 records to horror_2024_movies.csv\n",
      "Processing genre: drama\n",
      "Saved 6387 records to drama_2024_movies.csv\n",
      "Processing genre: thriller\n",
      "Saved 2227 records to thriller_2024_movies.csv\n",
      "Processing genre: romance\n",
      "Saved 1206 records to romance_2024_movies.csv\n",
      "Processing genre: documentary\n",
      "Saved 5560 records to documentary_2024_movies.csv\n"
     ]
    }
   ],
   "source": [
    "from selenium import webdriver\n",
    "from selenium.webdriver.common.by import By\n",
    "from selenium.webdriver.chrome.options import Options\n",
    "from selenium.webdriver.common.action_chains import ActionChains\n",
    "from selenium.webdriver.support.ui import WebDriverWait\n",
    "from selenium.webdriver.support import expected_conditions as EC\n",
    "import pandas as pd\n",
    "import time\n",
    "import re\n",
    "import pymysql as mysql\n",
    "\n",
    "options = Options()\n",
    "options.add_argument(\"--start-maximized\")\n",
    "driver = webdriver.Chrome(options=options)\n",
    "\n",
    "genre_list = ['horror', 'drama', 'thriller', 'romance','documentary']\n",
    "\n",
    "for genre in genre_list:\n",
    "    print(f\"Processing genre: {genre}\")\n",
    "    url = f\"https://www.imdb.com/search/title/?title_type=feature&release_date=2024-01-01,2024-12-31&genres={genre}\"\n",
    "    driver.get(url)\n",
    "    time.sleep(3)\n",
    "\n",
    "    \n",
    "    while True:\n",
    "        try:\n",
    "            load_more = WebDriverWait(driver, 5).until(\n",
    "            EC.element_to_be_clickable((By.XPATH, \"//span[contains(@class, 'ipc-see-more__text') and contains(text(), 'more')]\"))\n",
    "            )\n",
    "            driver.execute_script(\"arguments[0].click();\", load_more)\n",
    "            time.sleep(2)\n",
    "        except:\n",
    "            break\n",
    "\n",
    "    \n",
    "    movie_containers = driver.find_elements(By.XPATH, \"//div[contains(@class, 'ipc-metadata-list-summary-item')]\")\n",
    "    \n",
    "    data = []\n",
    "    for movie in movie_containers:\n",
    "        try:\n",
    "         \n",
    "            title = movie.find_element(By.CSS_SELECTOR, \"h3.ipc-title__text\").text.strip()\n",
    "            title = re.sub(r'^\\d+\\.\\s*', '', title)  \n",
    "\n",
    "            \n",
    "            meta_spans = movie.find_elements(By.CSS_SELECTOR, \"span.dli-title-metadata-item\")\n",
    "            year = meta_spans[0].text if len(meta_spans) > 0 else \"\"\n",
    "            if len(meta_spans) > 1:\n",
    "                duration_raw = meta_spans[1].text\n",
    "                hours = 0\n",
    "                minutes = 0\n",
    "                h_match = re.search(r'(\\d+)h', duration_raw)\n",
    "                if h_match:\n",
    "                    hours = int(h_match.group(1))\n",
    "                m_match = re.search(r'(\\d+)m', duration_raw)\n",
    "                if m_match:\n",
    "                    minutes = int(m_match.group(1))\n",
    "                duration = hours * 60 + minutes\n",
    "            else:\n",
    "                duration = \"\"\n",
    "\n",
    "            try:\n",
    "                rating = movie.find_element(By.CSS_SELECTOR, \"span.ipc-rating-star--rating\").text\n",
    "            except:\n",
    "                rating = \"\"\n",
    "\n",
    "            \n",
    "            try:\n",
    "                vote_text = movie.find_element(By.CSS_SELECTOR, \"span.ipc-rating-star--voteCount\").text\n",
    "                vote_count = re.sub(r'[^\\dKk]', '', vote_text).upper()\n",
    "                \n",
    "                if 'K' in vote_count:\n",
    "                    vote_count = int(float(vote_count.replace('K', '')) * 1000)\n",
    "                elif 'M' in vote_count:\n",
    "                    vote_count = int(float(vote_count.replace('M', '')) * 1_000_000)\n",
    "                else:\n",
    "                    vote_count = int(vote_count)\n",
    "            except:\n",
    "                vote_count = \"\"\n",
    "\n",
    "            data.append({\n",
    "                \"Movie Name\": title,\n",
    "                \"Year\": year,\n",
    "                \"Duration\": duration,\n",
    "                \n",
    "                \"Rating\": rating,\n",
    "                \"Vote Count\": vote_count,\n",
    "                \"Genre\": genre\n",
    "            })\n",
    "\n",
    "        except Exception as e:\n",
    "            print(e)\n",
    "            continue\n",
    "\n",
    "    \n",
    "    df = pd.DataFrame(data)\n",
    "    df.drop_duplicates(inplace=True)\n",
    "    df['Year'] = pd.to_numeric(df['Year'], errors='coerce').fillna(0).astype(int)\n",
    "    df['Duration'] = pd.to_numeric(df['Duration'], errors='coerce').fillna(0).astype(int)\n",
    "    df['Rating'] = pd.to_numeric(df['Rating'], errors='coerce').astype(float)\n",
    "    df['Vote Count'] = pd.to_numeric(df['Vote Count'], errors='coerce').fillna(0).astype(int)\n",
    "    df.to_csv(f\"{genre}_2024_movies.csv\", index=False)\n",
    "    print(f\"Saved {len(df)} records to {genre}_2024_movies.csv\")\n",
    "\n",
    "driver.quit()"
   ]
  },
  {
   "cell_type": "markdown",
   "id": "f1c50b0e",
   "metadata": {},
   "source": [
    "Combining and Cleaning Code"
   ]
  },
  {
   "cell_type": "code",
   "execution_count": null,
   "id": "392da189",
   "metadata": {},
   "outputs": [
    {
     "name": "stdout",
     "output_type": "stream",
     "text": [
      "Final record count: 13007\n"
     ]
    }
   ],
   "source": [
    "\n",
    "csv_files = [\n",
    "    r'C:\\Users\\judej\\OneDrive\\Desktop\\Scraping\\documentary_2024_movies.csv',\n",
    "    r'C:\\Users\\judej\\OneDrive\\Desktop\\Scraping\\drama_2024_movies.csv',\n",
    "    r'C:\\Users\\judej\\OneDrive\\Desktop\\Scraping\\horror_2024_movies.csv',\n",
    "    r'C:\\Users\\judej\\OneDrive\\Desktop\\Scraping\\romance_2024_movies.csv',\n",
    "    r'C:\\Users\\judej\\OneDrive\\Desktop\\Scraping\\thriller_2024_movies.csv'\n",
    "]\n",
    "\n",
    "dataframes = [pd.read_csv(file) for file in csv_files]\n",
    "combined = pd.concat(dataframes, ignore_index=True)\n",
    "\n",
    "\n",
    "combined.dropna(subset=['Movie Name'], inplace=True)\n",
    "combined = combined[combined['Movie Name'].str.strip() != '']\n",
    "\n",
    "\n",
    "duplicate_titles = combined['Movie Name'].value_counts()\n",
    "duplicate_titles = duplicate_titles[duplicate_titles > 1].index\n",
    "combined = combined[~combined['Movie Name'].isin(duplicate_titles)].copy()\n",
    "\n",
    "\n",
    "combined['Year'] = pd.to_numeric(combined['Year'], errors='coerce')\n",
    "combined.loc[combined['Year'] == 0, 'Year'] = np.nan\n",
    "combined['Year'] = combined['Year'].fillna(2024).astype(int)\n",
    "\n",
    "\n",
    "combined['Duration'] = pd.to_numeric(combined['Duration'], errors='coerce')\n",
    "combined.loc[combined['Duration'] == 0, 'Duration'] = np.nan\n",
    "\n",
    "\n",
    "duration_means = combined.groupby('Genre')['Duration'].transform('mean')\n",
    "combined['Duration'] = combined['Duration'].fillna(duration_means)\n",
    "combined['Duration'] = combined['Duration'].fillna(combined['Duration'].mean())\n",
    "combined['Duration'] = combined['Duration'].round().astype(int)\n",
    "\n",
    "\n",
    "combined['Rating'] = pd.to_numeric(combined['Rating'], errors='coerce')\n",
    "combined['Vote Count'] = pd.to_numeric(combined['Vote Count'], errors='coerce')\n",
    "\n",
    "\n",
    "combined.loc[combined['Rating'] == 0, 'Rating'] = np.nan\n",
    "combined.loc[combined['Vote Count'] == 0, 'Vote Count'] = np.nan\n",
    "\n",
    "\n",
    "rating_means = combined.groupby('Genre')['Rating'].transform('mean')\n",
    "combined['Rating'] = combined['Rating'].fillna(rating_means)\n",
    "combined['Rating'] = combined['Rating'].fillna(combined['Rating'].mean())\n",
    "\n",
    "\n",
    "vote_means = combined.groupby('Genre')['Vote Count'].transform('mean')\n",
    "combined['Vote Count'] = combined['Vote Count'].fillna(vote_means)\n",
    "combined['Vote Count'] = combined['Vote Count'].fillna(combined['Vote Count'].mean())\n",
    "\n",
    "\n",
    "combined.dropna(subset=['Rating', 'Vote Count'], how='all', inplace=True)\n",
    "\n",
    "\n",
    "combined['Vote Count'] = combined['Vote Count'].round().astype(int)\n",
    "combined['Rating'] = combined['Rating'].round(1).astype(float)\n",
    "\n",
    "\n",
    "combined = combined[(combined['Rating'] <= 10) & (combined['Rating'] >= 1)]\n",
    "combined = combined[combined['Duration'] > 10]  # e.g., remove durations too low\n",
    "\n",
    "\n",
    "combined.reset_index(drop=True, inplace=True)\n",
    "combined.to_csv('combined_cleaned.csv', index=False)\n",
    "\n",
    "print(f\"Final record count: {len(combined)}\")\n",
    "\n",
    "\n",
    "df = pd.read_csv('combined_cleaned.csv')\n"
   ]
  },
  {
   "cell_type": "markdown",
   "id": "1106852a",
   "metadata": {},
   "source": [
    "Debuging "
   ]
  },
  {
   "cell_type": "code",
   "execution_count": null,
   "id": "3250087a",
   "metadata": {},
   "outputs": [
    {
     "name": "stdout",
     "output_type": "stream",
     "text": [
      "Movie Name     object\n",
      "Year            int64\n",
      "Duration        int64\n",
      "Rating        float64\n",
      "Vote Count      int64\n",
      "Genre          object\n",
      "dtype: object\n",
      "Movie Name    13007\n",
      "Year          13007\n",
      "Duration      13007\n",
      "Rating        13007\n",
      "Vote Count    13007\n",
      "Genre         13007\n",
      "dtype: int64\n",
      "Number of rows where Duration == 0: 0\n",
      "Number of rows where Duration == 0: 0\n",
      "Number of rows where Duration == 0: 0\n",
      "Number of rows where Duration == 0: 0\n"
     ]
    }
   ],
   "source": [
    "df1 = pd.read_csv('combined_cleaned.csv')\n",
    "print(df.dtypes)\n",
    "dfc = df.count()\n",
    "print(dfc)\n",
    "print(\"Duration == 0:\", (df['Duration'] == 0).sum())\n",
    "print(\"Rating == 0:\", (df['Rating'] == 0).sum())\n",
    "print(\"Vote count == 0:\", (df['Vote Count'] == 0).sum())\n",
    "print(\"Duration == 0:\", (df['Year'] == 0).sum())\n"
   ]
  },
  {
   "cell_type": "markdown",
   "id": "4fdd74d8",
   "metadata": {},
   "source": [
    "MY SQL Insertion"
   ]
  },
  {
   "cell_type": "code",
   "execution_count": 48,
   "id": "c276f127",
   "metadata": {},
   "outputs": [
    {
     "name": "stdout",
     "output_type": "stream",
     "text": [
      "Data insertion done.\n"
     ]
    }
   ],
   "source": [
    "df = pd.read_csv(r'C:\\Users\\judej\\OneDrive\\Desktop\\Scraping\\combined_cleaned.csv')\n",
    "\n",
    "\n",
    "connection = mysql.connect(\n",
    "    host='localhost',\n",
    "    user='root',\n",
    "    password='root',\n",
    "    database='scrape_db',  \n",
    "    port=3306\n",
    ")\n",
    "\n",
    "cursor = connection.cursor()\n",
    "\n",
    "\n",
    "insert_query = \"\"\"\n",
    "INSERT INTO movies (movie_name, year, duration, rating, vote_count, genre)\n",
    "VALUES (%s, %s, %s, %s, %s, %s);\n",
    "\"\"\"\n",
    "\n",
    "\n",
    "for _, row in df.iterrows():\n",
    "    cursor.execute(insert_query, (\n",
    "        row['Movie Name'],\n",
    "        int(row['Year']),\n",
    "        int(row['Duration']),\n",
    "        float(row['Rating']),\n",
    "        int(row['Vote Count']),\n",
    "        row['Genre']\n",
    "    ))\n",
    "\n",
    "\n",
    "connection.commit()\n",
    "cursor.close()\n",
    "connection.close()\n",
    "\n",
    "print(\"Data insertion done.\")"
   ]
  },
  {
   "cell_type": "code",
   "execution_count": null,
   "id": "27b8b65c",
   "metadata": {},
   "outputs": [],
   "source": []
  }
 ],
 "metadata": {
  "kernelspec": {
   "display_name": "base",
   "language": "python",
   "name": "python3"
  },
  "language_info": {
   "codemirror_mode": {
    "name": "ipython",
    "version": 3
   },
   "file_extension": ".py",
   "mimetype": "text/x-python",
   "name": "python",
   "nbconvert_exporter": "python",
   "pygments_lexer": "ipython3",
   "version": "3.12.7"
  }
 },
 "nbformat": 4,
 "nbformat_minor": 5
}
